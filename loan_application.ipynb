{
 "cells": [
  {
   "cell_type": "markdown",
   "id": "11f41d79",
   "metadata": {},
   "source": [
    "# Acredius AG\n"
   ]
  },
  {
   "cell_type": "markdown",
   "id": "af5f173d",
   "metadata": {},
   "source": [
    "## Part 1: Descriptive analysis"
   ]
  },
  {
   "cell_type": "code",
   "execution_count": 45,
   "id": "9f3dd5bb",
   "metadata": {},
   "outputs": [],
   "source": [
    "import pandas as pd \n",
    "import  numpy as np\n",
    "from  unidecode import unidecode\n",
    "import matplotlib.pyplot as plt\n",
    "import seaborn as sns\n",
    "from sklearn.preprocessing import LabelEncoder,StandardScaler\n",
    "from sklearn.model_selection import  train_test_split\n",
    "from sklearn.linear_model import Lasso\n",
    "from sklearn.ensemble import RandomForestRegressor,GradientBoostingRegressor\n",
    "from sklearn.neighbors import KNeighborsRegressor\n",
    "from sklearn.tree import DecisionTreeRegressor\n",
    "from xgboost import XGBRegressor\n",
    "from sklearn.model_selection import StratifiedKFold\n",
    "from sklearn.model_selection import cross_val_score\n",
    "from sklearn.model_selection import GridSearchCV\n",
    "\n",
    "\n",
    "from sklearn.metrics import mean_absolute_error\n"
   ]
  },
  {
   "cell_type": "code",
   "execution_count": 2,
   "id": "b75f4cc2",
   "metadata": {},
   "outputs": [],
   "source": [
    "data= pd.read_excel('ATUCE_-_Data_Scientist_-_Case_study_data_2021_03.xlsx')\n",
    "\n",
    "# rename columns \n",
    "data.columns = data.columns.str.replace(\"'\", \"\")\n",
    "data.columns = data.columns.str.replace(\" \", \"_\")\n",
    "df=data"
   ]
  },
  {
   "cell_type": "code",
   "execution_count": 3,
   "id": "08f9b7a5",
   "metadata": {},
   "outputs": [],
   "source": [
    "#change evry colum contien - by nan \n",
    "df.replace(to_replace='-', value='nan',inplace=True) \n",
    "df.replace(to_replace='N/A', value='nan',inplace=True)"
   ]
  },
  {
   "cell_type": "code",
   "execution_count": 4,
   "id": "e3b6d8fa",
   "metadata": {},
   "outputs": [
    {
     "name": "stdout",
     "output_type": "stream",
     "text": [
      "<class 'pandas.core.frame.DataFrame'>\n",
      "RangeIndex: 688 entries, 0 to 687\n",
      "Data columns (total 87 columns):\n",
      " #   Column                                  Non-Null Count  Dtype  \n",
      "---  ------                                  --------------  -----  \n",
      " 0   ID                                      688 non-null    int64  \n",
      " 1   Pays                                    688 non-null    object \n",
      " 2   Taux                                    688 non-null    object \n",
      " 3   Mois                                    688 non-null    int64  \n",
      " 4   Montant                                 688 non-null    object \n",
      " 5   Niveau_de_risque                        688 non-null    object \n",
      " 6   Emprunteur                              688 non-null    object \n",
      " 7   capital_social                          688 non-null    object \n",
      " 8   année_de_création                       688 non-null    int64  \n",
      " 9   Antériorité                             688 non-null    object \n",
      " 10  effectifs                               687 non-null    object \n",
      " 11  Nombre_de_mois_de_la_période_15         300 non-null    object \n",
      " 12  Nombre_de_mois_de_la_période_16         423 non-null    object \n",
      " 13  Nombre_de_mois_de_la_période_17         351 non-null    object \n",
      " 14  Nombre_de_mois_de_la_période_18         168 non-null    object \n",
      " 15  Chiffre_dAffaires_15                    374 non-null    object \n",
      " 16  Chiffre_dAffaires_16                    491 non-null    object \n",
      " 17  Chiffre_dAffaires_17                    312 non-null    object \n",
      " 18  Chiffre_dAffaires_18                    125 non-null    object \n",
      " 19  Evolution_du_Chiffre_dAffaires_15       227 non-null    object \n",
      " 20  Evolution_du_Chiffre_dAffaires_16       377 non-null    object \n",
      " 21  Evolution_du_Chiffre_dAffaires_17       292 non-null    object \n",
      " 22  Evolution_du_Chiffre_dAffaires_18       125 non-null    object \n",
      " 23  EBE(retraité_des_loyers_de_leasing)_15  370 non-null    object \n",
      " 24  EBE(retraité_des_loyers_de_leasing)_16  484 non-null    object \n",
      " 25  EBE(retraité_des_loyers_de_leasing)_17  311 non-null    object \n",
      " 26  EBE(retraité_des_loyers_de_leasing)_18  127 non-null    object \n",
      " 27  Marge_dEBE_15                           183 non-null    object \n",
      " 28  Marge_dEBE_16                           232 non-null    object \n",
      " 29  Marge_dEBE_17                           121 non-null    object \n",
      " 30  Marge_dEBE_18                           49 non-null     object \n",
      " 31  Resultat_Net_15                         369 non-null    object \n",
      " 32  Resultat_Net_16                         487 non-null    object \n",
      " 33  Resultat_Net_17                         308 non-null    object \n",
      " 34  Resultat_Net_18                         123 non-null    object \n",
      " 35  Total_Bilan_15                          372 non-null    object \n",
      " 36  Total_Bilan_16                          487 non-null    object \n",
      " 37  Total_Bilan_17                          311 non-null    object \n",
      " 38  Total_Bilan_18                          127 non-null    object \n",
      " 39  BFRE_15                                 182 non-null    object \n",
      " 40  BFRE_16                                 218 non-null    object \n",
      " 41  BFRE_17                                 107 non-null    object \n",
      " 42  BFRE_18                                 35 non-null     object \n",
      " 43  Capacité_de_remboursement_(FCCR)_15     370 non-null    object \n",
      " 44  Capacité_de_remboursement_(FCCR)_16     483 non-null    object \n",
      " 45  Capacité_de_remboursement_(FCCR)_17     311 non-null    object \n",
      " 46  Capacité_de_remboursement_(FCCR)_18     126 non-null    object \n",
      " 47  Fonds_Propres_15                        372 non-null    object \n",
      " 48  Fonds_Propres_16                        487 non-null    object \n",
      " 49  Fonds_Propres_17                        310 non-null    object \n",
      " 50  Fonds_Propres_18                        125 non-null    object \n",
      " 51  Fonds_Propres_/_Total_Bilan_15          367 non-null    object \n",
      " 52  Fonds_Propres_/_Total_Bilan_16          482 non-null    object \n",
      " 53  Fonds_Propres_/_Total_Bilan_17          309 non-null    object \n",
      " 54  Fonds_Propres_/_Total_Bilan_18          125 non-null    object \n",
      " 55  Passif_circulant_15                     183 non-null    object \n",
      " 56  Passif_circulant_16                     231 non-null    object \n",
      " 57  Passif_circulant_17                     121 non-null    object \n",
      " 58  Passif_circulant_18                     49 non-null     object \n",
      " 59  Actif_immobilisé_15                     184 non-null    object \n",
      " 60  Actif_immobilisé_16                     231 non-null    object \n",
      " 61  Actif_immobilisé_17                     120 non-null    object \n",
      " 62  Actif_immobilisé_18                     48 non-null     object \n",
      " 63  Actif_circulant_15                      183 non-null    object \n",
      " 64  Actif_circulant_16                      231 non-null    object \n",
      " 65  Actif_circulant_17                      120 non-null    object \n",
      " 66  Actif_circulant_18                      48 non-null     object \n",
      " 67  Dettes_court_terme_15                   182 non-null    object \n",
      " 68  Dettes_court_terme_16                   226 non-null    object \n",
      " 69  Dettes_court_terme_17                   118 non-null    object \n",
      " 70  Dettes_court_terme_18                   48 non-null     object \n",
      " 71  Dettes_Moyen_long_terme_15              181 non-null    object \n",
      " 72  Dettes_Moyen_long_terme_16              228 non-null    object \n",
      " 73  Dettes_Moyen_long_terme_17              117 non-null    object \n",
      " 74  Dettes_Moyen_long_terme_18              47 non-null     object \n",
      " 75  Dettes_Nettes_/_EBE(*_années)_15        371 non-null    object \n",
      " 76  Dettes_Nettes_/_EBE(*_années)_16        482 non-null    object \n",
      " 77  Dettes_Nettes_/_EBE(*_années)_17        308 non-null    object \n",
      " 78  Dettes_Nettes_/_EBE(*_années)_18        124 non-null    object \n",
      " 79  Dettes_Nettes_/_Fonds_propres_15        368 non-null    object \n",
      " 80  Dettes_Nettes_/_Fonds_propres_16        484 non-null    object \n",
      " 81  Dettes_Nettes_/_Fonds_propres_17        311 non-null    object \n",
      " 82  Dettes_Nettes_/_Fonds_propres_18        126 non-null    object \n",
      " 83  BFRE_en_nombre_de_jours_de_CA_15        186 non-null    object \n",
      " 84  BFRE_en_nombre_de_jours_de_CA_16        248 non-null    object \n",
      " 85  BFRE_en_nombre_de_jours_de_CA_17        188 non-null    object \n",
      " 86  BFRE_en_nombre_de_jours_de_CA_18        75 non-null     float64\n",
      "dtypes: float64(1), int64(3), object(83)\n",
      "memory usage: 467.8+ KB\n"
     ]
    }
   ],
   "source": [
    "df.info()"
   ]
  },
  {
   "cell_type": "code",
   "execution_count": 5,
   "id": "1f9316d0",
   "metadata": {},
   "outputs": [
    {
     "data": {
      "text/html": [
       "<div>\n",
       "<style scoped>\n",
       "    .dataframe tbody tr th:only-of-type {\n",
       "        vertical-align: middle;\n",
       "    }\n",
       "\n",
       "    .dataframe tbody tr th {\n",
       "        vertical-align: top;\n",
       "    }\n",
       "\n",
       "    .dataframe thead th {\n",
       "        text-align: right;\n",
       "    }\n",
       "</style>\n",
       "<table border=\"1\" class=\"dataframe\">\n",
       "  <thead>\n",
       "    <tr style=\"text-align: right;\">\n",
       "      <th></th>\n",
       "      <th>0</th>\n",
       "    </tr>\n",
       "  </thead>\n",
       "  <tbody>\n",
       "    <tr>\n",
       "      <th>ID</th>\n",
       "      <td>0.000000</td>\n",
       "    </tr>\n",
       "    <tr>\n",
       "      <th>Pays</th>\n",
       "      <td>0.000000</td>\n",
       "    </tr>\n",
       "    <tr>\n",
       "      <th>Taux</th>\n",
       "      <td>0.000000</td>\n",
       "    </tr>\n",
       "    <tr>\n",
       "      <th>Mois</th>\n",
       "      <td>0.000000</td>\n",
       "    </tr>\n",
       "    <tr>\n",
       "      <th>Montant</th>\n",
       "      <td>0.000000</td>\n",
       "    </tr>\n",
       "    <tr>\n",
       "      <th>...</th>\n",
       "      <td>...</td>\n",
       "    </tr>\n",
       "    <tr>\n",
       "      <th>Dettes_Nettes_/_Fonds_propres_18</th>\n",
       "      <td>81.686047</td>\n",
       "    </tr>\n",
       "    <tr>\n",
       "      <th>BFRE_en_nombre_de_jours_de_CA_15</th>\n",
       "      <td>72.965116</td>\n",
       "    </tr>\n",
       "    <tr>\n",
       "      <th>BFRE_en_nombre_de_jours_de_CA_16</th>\n",
       "      <td>63.953488</td>\n",
       "    </tr>\n",
       "    <tr>\n",
       "      <th>BFRE_en_nombre_de_jours_de_CA_17</th>\n",
       "      <td>72.674419</td>\n",
       "    </tr>\n",
       "    <tr>\n",
       "      <th>BFRE_en_nombre_de_jours_de_CA_18</th>\n",
       "      <td>89.098837</td>\n",
       "    </tr>\n",
       "  </tbody>\n",
       "</table>\n",
       "<p>87 rows × 1 columns</p>\n",
       "</div>"
      ],
      "text/plain": [
       "                                          0\n",
       "ID                                 0.000000\n",
       "Pays                               0.000000\n",
       "Taux                               0.000000\n",
       "Mois                               0.000000\n",
       "Montant                            0.000000\n",
       "...                                     ...\n",
       "Dettes_Nettes_/_Fonds_propres_18  81.686047\n",
       "BFRE_en_nombre_de_jours_de_CA_15  72.965116\n",
       "BFRE_en_nombre_de_jours_de_CA_16  63.953488\n",
       "BFRE_en_nombre_de_jours_de_CA_17  72.674419\n",
       "BFRE_en_nombre_de_jours_de_CA_18  89.098837\n",
       "\n",
       "[87 rows x 1 columns]"
      ]
     },
     "execution_count": 5,
     "metadata": {},
     "output_type": "execute_result"
    }
   ],
   "source": [
    "\n",
    "nan_values = df.isnull().sum()\n",
    "pourcentage= pd.DataFrame((np.array(nan_values)/688)*100 ,index=nan_values.index)\n",
    "pourcentage"
   ]
  },
  {
   "cell_type": "code",
   "execution_count": 6,
   "id": "c9c1d67b",
   "metadata": {},
   "outputs": [],
   "source": [
    "#drop all redundant and forward-looking columns\n",
    "\n",
    "df =df.loc[:,['Pays', 'Taux', 'Mois', 'Montant', 'Niveau_de_risque',\n",
    "       'Emprunteur', 'capital_social', 'année_de_création', 'Antériorité',\n",
    "       'effectifs']]"
   ]
  },
  {
   "cell_type": "code",
   "execution_count": 7,
   "id": "4d39375f",
   "metadata": {},
   "outputs": [],
   "source": [
    "for name in ['Pays','Taux','capital_social','Montant','effectifs']:\n",
    "    try:\n",
    "        df[name]= df[name].apply(lambda x : str(x).replace('€','').strip())\n",
    "        df[name]= df[name].apply(lambda x : str(x).replace('%','').strip())\n",
    "        df[name]= df[name].apply(lambda x : str(x).replace(',','.').strip())\n",
    "        df[name]= df[name].apply(lambda x : str(x).replace(' ','').strip())\n",
    "        df[name]= df[name].apply(lambda x : str(x).replace('Plusde','').strip())\n",
    "        df[name]= df[name].apply(lambda x : str(x).replace('\\n','').strip())\n",
    "        df[name]= df[name].apply(lambda x : str(x).replace('-','').strip())        \n",
    "    except :\n",
    "        -1\n"
   ]
  },
  {
   "cell_type": "code",
   "execution_count": 13,
   "id": "5f61e24d",
   "metadata": {},
   "outputs": [],
   "source": [
    "#calculate the moyenne of range\n",
    "def change_rang_to_num(df,lis,sep):\n",
    "    for colum in lis :\n",
    "        for i in range(len(df[colum])):\n",
    "            try:\n",
    "                if sep in df[colum][i] :\n",
    "                    x= float(df[colum][i].split(sep)[0].strip())\n",
    "                    y= float(df[colum][i].split(sep)[1].strip())\n",
    "                    df[colum][i]=float((x+y)//2)\n",
    "            except:\n",
    "                -1\n",
    "\n",
    "    return df\n",
    "           \n",
    "df =change_rang_to_num(df,['effectifs'],'à')"
   ]
  },
  {
   "cell_type": "code",
   "execution_count": 14,
   "id": "890cae26",
   "metadata": {},
   "outputs": [],
   "source": [
    "# calculate the moyenne of range\n",
    "for name in ['Taux','capital_social','Montant','capital_social', 'année_de_création', 'Antériorité', 'effectifs']:\n",
    "    try:\n",
    "        df[name]= df[name].apply(lambda x: (unidecode(x).replace(' ',''))).astype(float)\n",
    "    except :\n",
    "        -1"
   ]
  },
  {
   "cell_type": "code",
   "execution_count": 15,
   "id": "1f3c2159",
   "metadata": {},
   "outputs": [],
   "source": [
    "df['Antériorité']= df['Antériorité'].apply(lambda x : str(x)[0:4])\n",
    "df['Antériorité']= pd.to_numeric(df['Antériorité'])\n",
    "\n",
    "df['capital_social']= df['capital_social'].replace(1, df['capital_social'].mean())\n",
    "df['capital_social'].fillna((df['capital_social'].mean()), inplace=True)\n",
    "\n",
    "df['effectifs']= df['effectifs'].apply(lambda x: (unidecode(str(x)).replace(' ',''))).astype(float)\n",
    "df['effectifs'].fillna((df['effectifs'].mean()), inplace=True)\n"
   ]
  },
  {
   "cell_type": "code",
   "execution_count": 16,
   "id": "5e24da2b",
   "metadata": {},
   "outputs": [
    {
     "data": {
      "text/html": [
       "<div>\n",
       "<style scoped>\n",
       "    .dataframe tbody tr th:only-of-type {\n",
       "        vertical-align: middle;\n",
       "    }\n",
       "\n",
       "    .dataframe tbody tr th {\n",
       "        vertical-align: top;\n",
       "    }\n",
       "\n",
       "    .dataframe thead th {\n",
       "        text-align: right;\n",
       "    }\n",
       "</style>\n",
       "<table border=\"1\" class=\"dataframe\">\n",
       "  <thead>\n",
       "    <tr style=\"text-align: right;\">\n",
       "      <th></th>\n",
       "      <th>Pays</th>\n",
       "      <th>Taux</th>\n",
       "      <th>Mois</th>\n",
       "      <th>Montant</th>\n",
       "      <th>Niveau_de_risque</th>\n",
       "      <th>Emprunteur</th>\n",
       "      <th>capital_social</th>\n",
       "      <th>année_de_création</th>\n",
       "      <th>Antériorité</th>\n",
       "      <th>effectifs</th>\n",
       "    </tr>\n",
       "  </thead>\n",
       "  <tbody>\n",
       "    <tr>\n",
       "      <th>0</th>\n",
       "      <td>France</td>\n",
       "      <td>5.85</td>\n",
       "      <td>48</td>\n",
       "      <td>1100000.0</td>\n",
       "      <td>B</td>\n",
       "      <td>Ets Provost Frères</td>\n",
       "      <td>3058500.0</td>\n",
       "      <td>1962</td>\n",
       "      <td>1991</td>\n",
       "      <td>30.500000</td>\n",
       "    </tr>\n",
       "    <tr>\n",
       "      <th>1</th>\n",
       "      <td>Espagne</td>\n",
       "      <td>5.50</td>\n",
       "      <td>48</td>\n",
       "      <td>310000.0</td>\n",
       "      <td>B+</td>\n",
       "      <td>INTERNATIONAL STUDIES SA</td>\n",
       "      <td>396072.0</td>\n",
       "      <td>1985</td>\n",
       "      <td>1998</td>\n",
       "      <td>30.500000</td>\n",
       "    </tr>\n",
       "    <tr>\n",
       "      <th>2</th>\n",
       "      <td>PaysBas</td>\n",
       "      <td>6.45</td>\n",
       "      <td>48</td>\n",
       "      <td>165000.0</td>\n",
       "      <td>B</td>\n",
       "      <td>Docufiller Sales</td>\n",
       "      <td>900.0</td>\n",
       "      <td>2016</td>\n",
       "      <td>2016</td>\n",
       "      <td>5.500000</td>\n",
       "    </tr>\n",
       "    <tr>\n",
       "      <th>3</th>\n",
       "      <td>France</td>\n",
       "      <td>0.06</td>\n",
       "      <td>60</td>\n",
       "      <td>2000000.0</td>\n",
       "      <td>B</td>\n",
       "      <td>E.B.P.</td>\n",
       "      <td>10000.0</td>\n",
       "      <td>2016</td>\n",
       "      <td>2014</td>\n",
       "      <td>150.500000</td>\n",
       "    </tr>\n",
       "    <tr>\n",
       "      <th>4</th>\n",
       "      <td>Italie</td>\n",
       "      <td>4.90</td>\n",
       "      <td>36</td>\n",
       "      <td>100000.0</td>\n",
       "      <td>B+</td>\n",
       "      <td>Deltagamma</td>\n",
       "      <td>10000.0</td>\n",
       "      <td>2003</td>\n",
       "      <td>2003</td>\n",
       "      <td>84.482379</td>\n",
       "    </tr>\n",
       "  </tbody>\n",
       "</table>\n",
       "</div>"
      ],
      "text/plain": [
       "      Pays  Taux  Mois    Montant Niveau_de_risque                Emprunteur  \\\n",
       "0   France  5.85    48  1100000.0                B        Ets Provost Frères   \n",
       "1  Espagne  5.50    48   310000.0               B+  INTERNATIONAL STUDIES SA   \n",
       "2  PaysBas  6.45    48   165000.0                B          Docufiller Sales   \n",
       "3   France  0.06    60  2000000.0                B                    E.B.P.   \n",
       "4   Italie  4.90    36   100000.0               B+                Deltagamma   \n",
       "\n",
       "   capital_social  année_de_création  Antériorité   effectifs  \n",
       "0       3058500.0               1962         1991   30.500000  \n",
       "1        396072.0               1985         1998   30.500000  \n",
       "2           900.0               2016         2016    5.500000  \n",
       "3         10000.0               2016         2014  150.500000  \n",
       "4         10000.0               2003         2003   84.482379  "
      ]
     },
     "execution_count": 16,
     "metadata": {},
     "output_type": "execute_result"
    }
   ],
   "source": [
    "df.head()"
   ]
  },
  {
   "cell_type": "code",
   "execution_count": 17,
   "id": "082defae",
   "metadata": {},
   "outputs": [
    {
     "data": {
      "text/html": [
       "<div>\n",
       "<style scoped>\n",
       "    .dataframe tbody tr th:only-of-type {\n",
       "        vertical-align: middle;\n",
       "    }\n",
       "\n",
       "    .dataframe tbody tr th {\n",
       "        vertical-align: top;\n",
       "    }\n",
       "\n",
       "    .dataframe thead th {\n",
       "        text-align: right;\n",
       "    }\n",
       "</style>\n",
       "<table border=\"1\" class=\"dataframe\">\n",
       "  <thead>\n",
       "    <tr style=\"text-align: right;\">\n",
       "      <th></th>\n",
       "      <th>Taux</th>\n",
       "      <th>Mois</th>\n",
       "      <th>Montant</th>\n",
       "      <th>capital_social</th>\n",
       "      <th>année_de_création</th>\n",
       "      <th>Antériorité</th>\n",
       "      <th>effectifs</th>\n",
       "    </tr>\n",
       "  </thead>\n",
       "  <tbody>\n",
       "    <tr>\n",
       "      <th>Taux</th>\n",
       "      <td>1.000000</td>\n",
       "      <td>0.009747</td>\n",
       "      <td>0.001764</td>\n",
       "      <td>-0.055398</td>\n",
       "      <td>0.049239</td>\n",
       "      <td>0.068014</td>\n",
       "      <td>-0.111758</td>\n",
       "    </tr>\n",
       "    <tr>\n",
       "      <th>Mois</th>\n",
       "      <td>0.009747</td>\n",
       "      <td>1.000000</td>\n",
       "      <td>0.145305</td>\n",
       "      <td>-0.112451</td>\n",
       "      <td>0.126728</td>\n",
       "      <td>0.199459</td>\n",
       "      <td>-0.098116</td>\n",
       "    </tr>\n",
       "    <tr>\n",
       "      <th>Montant</th>\n",
       "      <td>0.001764</td>\n",
       "      <td>0.145305</td>\n",
       "      <td>1.000000</td>\n",
       "      <td>-0.039789</td>\n",
       "      <td>-0.200151</td>\n",
       "      <td>-0.205086</td>\n",
       "      <td>0.253171</td>\n",
       "    </tr>\n",
       "    <tr>\n",
       "      <th>capital_social</th>\n",
       "      <td>-0.055398</td>\n",
       "      <td>-0.112451</td>\n",
       "      <td>-0.039789</td>\n",
       "      <td>1.000000</td>\n",
       "      <td>-0.106618</td>\n",
       "      <td>-0.133856</td>\n",
       "      <td>0.412743</td>\n",
       "    </tr>\n",
       "    <tr>\n",
       "      <th>année_de_création</th>\n",
       "      <td>0.049239</td>\n",
       "      <td>0.126728</td>\n",
       "      <td>-0.200151</td>\n",
       "      <td>-0.106618</td>\n",
       "      <td>1.000000</td>\n",
       "      <td>0.555382</td>\n",
       "      <td>-0.202236</td>\n",
       "    </tr>\n",
       "    <tr>\n",
       "      <th>Antériorité</th>\n",
       "      <td>0.068014</td>\n",
       "      <td>0.199459</td>\n",
       "      <td>-0.205086</td>\n",
       "      <td>-0.133856</td>\n",
       "      <td>0.555382</td>\n",
       "      <td>1.000000</td>\n",
       "      <td>-0.244499</td>\n",
       "    </tr>\n",
       "    <tr>\n",
       "      <th>effectifs</th>\n",
       "      <td>-0.111758</td>\n",
       "      <td>-0.098116</td>\n",
       "      <td>0.253171</td>\n",
       "      <td>0.412743</td>\n",
       "      <td>-0.202236</td>\n",
       "      <td>-0.244499</td>\n",
       "      <td>1.000000</td>\n",
       "    </tr>\n",
       "  </tbody>\n",
       "</table>\n",
       "</div>"
      ],
      "text/plain": [
       "                       Taux      Mois   Montant  capital_social  \\\n",
       "Taux               1.000000  0.009747  0.001764       -0.055398   \n",
       "Mois               0.009747  1.000000  0.145305       -0.112451   \n",
       "Montant            0.001764  0.145305  1.000000       -0.039789   \n",
       "capital_social    -0.055398 -0.112451 -0.039789        1.000000   \n",
       "année_de_création  0.049239  0.126728 -0.200151       -0.106618   \n",
       "Antériorité        0.068014  0.199459 -0.205086       -0.133856   \n",
       "effectifs         -0.111758 -0.098116  0.253171        0.412743   \n",
       "\n",
       "                   année_de_création  Antériorité  effectifs  \n",
       "Taux                        0.049239     0.068014  -0.111758  \n",
       "Mois                        0.126728     0.199459  -0.098116  \n",
       "Montant                    -0.200151    -0.205086   0.253171  \n",
       "capital_social             -0.106618    -0.133856   0.412743  \n",
       "année_de_création           1.000000     0.555382  -0.202236  \n",
       "Antériorité                 0.555382     1.000000  -0.244499  \n",
       "effectifs                  -0.202236    -0.244499   1.000000  "
      ]
     },
     "execution_count": 17,
     "metadata": {},
     "output_type": "execute_result"
    }
   ],
   "source": [
    "# get correlation matrix \n",
    "corrolation=df.corr()\n",
    "corrolation"
   ]
  },
  {
   "cell_type": "code",
   "execution_count": 20,
   "id": "0a4f3c68",
   "metadata": {},
   "outputs": [
    {
     "data": {
      "text/plain": [
       "<AxesSubplot:>"
      ]
     },
     "execution_count": 20,
     "metadata": {},
     "output_type": "execute_result"
    },
    {
     "data": {
      "image/png": "[encoded data removed]",
      "text/plain": [
       "<Figure size 432x288 with 2 Axes>"
      ]
     },
     "metadata": {
      "needs_background": "light"
     },
     "output_type": "display_data"
    }
   ],
   "source": [
    "mask = np.triu(np.ones_like(corrolation, dtype=bool))\n",
    "cmap = sns.diverging_palette(230, 20, as_cmap=True)\n",
    "sns.heatmap(corrolation, mask=mask, cmap=cmap, vmax=.3, center=0,\n",
    "            square=True, linewidths=.5)"
   ]
  },
  {
   "cell_type": "markdown",
   "id": "1b0dd937",
   "metadata": {},
   "source": [
    "the correlation matrix shows that :  \n",
    "    -Mois and Montant have no correlation Taux.    \n",
    "    -année_de_création and Antériorité is positively correlated with Taux.    \n",
    "    -effectifs and capital_social are  negatively correlated with Taux.    \n",
    "    \n",
    "    \n",
    "from this, we can understand the interest rate of the loan is doesn't get higher by the amount of the loan or the duration basically its get higher with the stability of the company the bank attend to get higher interest from the older company  and get reduced by the workforce and the share capital the higher Company expenses the lower interest became"
   ]
  },
  {
   "cell_type": "code",
   "execution_count": 21,
   "id": "265c530a",
   "metadata": {},
   "outputs": [
    {
     "data": {
      "text/plain": [
       "Index(['Pays', 'Taux', 'Mois', 'Montant', 'Niveau_de_risque', 'Emprunteur',\n",
       "       'capital_social', 'année_de_création', 'Antériorité', 'effectifs'],\n",
       "      dtype='object')"
      ]
     },
     "execution_count": 21,
     "metadata": {},
     "output_type": "execute_result"
    }
   ],
   "source": [
    "df.columns"
   ]
  },
  {
   "cell_type": "code",
   "execution_count": 22,
   "id": "70eaf9c3",
   "metadata": {},
   "outputs": [
    {
     "name": "stdout",
     "output_type": "stream",
     "text": [
      "ghraph for Pays :counts= 4\n"
     ]
    },
    {
     "data": {
      "image/png": "[encoded data removed]",
      "text/plain": [
       "<Figure size 432x360 with 1 Axes>"
      ]
     },
     "metadata": {
      "needs_background": "light"
     },
     "output_type": "display_data"
    },
    {
     "name": "stdout",
     "output_type": "stream",
     "text": [
      "ghraph for effectifs :counts= 8\n"
     ]
    },
    {
     "data": {
      "image/png": "[encoded data removed]",
      "text/plain": [
       "<Figure size 432x360 with 1 Axes>"
      ]
     },
     "metadata": {
      "needs_background": "light"
     },
     "output_type": "display_data"
    },
    {
     "name": "stdout",
     "output_type": "stream",
     "text": [
      "ghraph for Mois :counts= 19\n"
     ]
    },
    {
     "data": {
      "image/png": "[encoded data removed]",
      "text/plain": [
       "<Figure size 432x360 with 1 Axes>"
      ]
     },
     "metadata": {
      "needs_background": "light"
     },
     "output_type": "display_data"
    }
   ],
   "source": [
    "\n",
    "data =df[['Pays','effectifs','Mois']]\n",
    "for i in data.columns:\n",
    "    num=data[i].value_counts()\n",
    "    print('ghraph for %s :counts= %d' % (i ,len(num)))\n",
    "    fig, ax = plt.subplots(figsize=(6,5))\n",
    "    g=sns.barplot(x=num.index,y=num)\n",
    "    g.set_xticklabels(num.index,rotation=45)\n",
    "    \n",
    "    plt.show()"
   ]
  },
  {
   "cell_type": "markdown",
   "id": "5aaa2daf",
   "metadata": {},
   "source": [
    "## Part 2: Modeling"
   ]
  },
  {
   "cell_type": "code",
   "execution_count": 23,
   "id": "9638eafa",
   "metadata": {},
   "outputs": [],
   "source": [
    "df1=df"
   ]
  },
  {
   "cell_type": "code",
   "execution_count": 24,
   "id": "2a11f231",
   "metadata": {},
   "outputs": [
    {
     "data": {
      "text/html": [
       "<div>\n",
       "<style scoped>\n",
       "    .dataframe tbody tr th:only-of-type {\n",
       "        vertical-align: middle;\n",
       "    }\n",
       "\n",
       "    .dataframe tbody tr th {\n",
       "        vertical-align: top;\n",
       "    }\n",
       "\n",
       "    .dataframe thead th {\n",
       "        text-align: right;\n",
       "    }\n",
       "</style>\n",
       "<table border=\"1\" class=\"dataframe\">\n",
       "  <thead>\n",
       "    <tr style=\"text-align: right;\">\n",
       "      <th></th>\n",
       "      <th>Pays</th>\n",
       "      <th>Taux</th>\n",
       "      <th>Mois</th>\n",
       "      <th>Montant</th>\n",
       "      <th>Niveau_de_risque</th>\n",
       "      <th>Emprunteur</th>\n",
       "      <th>capital_social</th>\n",
       "      <th>année_de_création</th>\n",
       "      <th>Antériorité</th>\n",
       "      <th>effectifs</th>\n",
       "    </tr>\n",
       "  </thead>\n",
       "  <tbody>\n",
       "    <tr>\n",
       "      <th>0</th>\n",
       "      <td>France</td>\n",
       "      <td>5.85</td>\n",
       "      <td>48</td>\n",
       "      <td>1100000.0</td>\n",
       "      <td>B</td>\n",
       "      <td>Ets Provost Frères</td>\n",
       "      <td>3058500.0</td>\n",
       "      <td>1962</td>\n",
       "      <td>1991</td>\n",
       "      <td>30.500000</td>\n",
       "    </tr>\n",
       "    <tr>\n",
       "      <th>1</th>\n",
       "      <td>Espagne</td>\n",
       "      <td>5.50</td>\n",
       "      <td>48</td>\n",
       "      <td>310000.0</td>\n",
       "      <td>B+</td>\n",
       "      <td>INTERNATIONAL STUDIES SA</td>\n",
       "      <td>396072.0</td>\n",
       "      <td>1985</td>\n",
       "      <td>1998</td>\n",
       "      <td>30.500000</td>\n",
       "    </tr>\n",
       "    <tr>\n",
       "      <th>2</th>\n",
       "      <td>PaysBas</td>\n",
       "      <td>6.45</td>\n",
       "      <td>48</td>\n",
       "      <td>165000.0</td>\n",
       "      <td>B</td>\n",
       "      <td>Docufiller Sales</td>\n",
       "      <td>900.0</td>\n",
       "      <td>2016</td>\n",
       "      <td>2016</td>\n",
       "      <td>5.500000</td>\n",
       "    </tr>\n",
       "    <tr>\n",
       "      <th>3</th>\n",
       "      <td>France</td>\n",
       "      <td>0.06</td>\n",
       "      <td>60</td>\n",
       "      <td>2000000.0</td>\n",
       "      <td>B</td>\n",
       "      <td>E.B.P.</td>\n",
       "      <td>10000.0</td>\n",
       "      <td>2016</td>\n",
       "      <td>2014</td>\n",
       "      <td>150.500000</td>\n",
       "    </tr>\n",
       "    <tr>\n",
       "      <th>4</th>\n",
       "      <td>Italie</td>\n",
       "      <td>4.90</td>\n",
       "      <td>36</td>\n",
       "      <td>100000.0</td>\n",
       "      <td>B+</td>\n",
       "      <td>Deltagamma</td>\n",
       "      <td>10000.0</td>\n",
       "      <td>2003</td>\n",
       "      <td>2003</td>\n",
       "      <td>84.482379</td>\n",
       "    </tr>\n",
       "  </tbody>\n",
       "</table>\n",
       "</div>"
      ],
      "text/plain": [
       "      Pays  Taux  Mois    Montant Niveau_de_risque                Emprunteur  \\\n",
       "0   France  5.85    48  1100000.0                B        Ets Provost Frères   \n",
       "1  Espagne  5.50    48   310000.0               B+  INTERNATIONAL STUDIES SA   \n",
       "2  PaysBas  6.45    48   165000.0                B          Docufiller Sales   \n",
       "3   France  0.06    60  2000000.0                B                    E.B.P.   \n",
       "4   Italie  4.90    36   100000.0               B+                Deltagamma   \n",
       "\n",
       "   capital_social  année_de_création  Antériorité   effectifs  \n",
       "0       3058500.0               1962         1991   30.500000  \n",
       "1        396072.0               1985         1998   30.500000  \n",
       "2           900.0               2016         2016    5.500000  \n",
       "3         10000.0               2016         2014  150.500000  \n",
       "4         10000.0               2003         2003   84.482379  "
      ]
     },
     "execution_count": 24,
     "metadata": {},
     "output_type": "execute_result"
    }
   ],
   "source": [
    "df1.head()"
   ]
  },
  {
   "cell_type": "code",
   "execution_count": 25,
   "id": "b8bb26a7",
   "metadata": {},
   "outputs": [],
   "source": [
    "#drop Pays column\n",
    "\n",
    "df1.drop(['Pays'],axis=1,inplace=True)\n"
   ]
  },
  {
   "cell_type": "code",
   "execution_count": 26,
   "id": "6d9f2a7b",
   "metadata": {},
   "outputs": [],
   "source": [
    "lbl1 = LabelEncoder()\n",
    "df1['Niveau_de_risque']= lbl1.fit_transform(df1['Niveau_de_risque'])\n",
    "\n",
    "lbl2 = LabelEncoder()\n",
    "df1['Emprunteur']= lbl2.fit_transform(df1['Emprunteur'])"
   ]
  },
  {
   "cell_type": "code",
   "execution_count": 27,
   "id": "01cbff59",
   "metadata": {},
   "outputs": [
    {
     "data": {
      "text/html": [
       "<div>\n",
       "<style scoped>\n",
       "    .dataframe tbody tr th:only-of-type {\n",
       "        vertical-align: middle;\n",
       "    }\n",
       "\n",
       "    .dataframe tbody tr th {\n",
       "        vertical-align: top;\n",
       "    }\n",
       "\n",
       "    .dataframe thead th {\n",
       "        text-align: right;\n",
       "    }\n",
       "</style>\n",
       "<table border=\"1\" class=\"dataframe\">\n",
       "  <thead>\n",
       "    <tr style=\"text-align: right;\">\n",
       "      <th></th>\n",
       "      <th>Taux</th>\n",
       "      <th>Mois</th>\n",
       "      <th>Montant</th>\n",
       "      <th>Niveau_de_risque</th>\n",
       "      <th>Emprunteur</th>\n",
       "      <th>capital_social</th>\n",
       "      <th>année_de_création</th>\n",
       "      <th>Antériorité</th>\n",
       "      <th>effectifs</th>\n",
       "    </tr>\n",
       "  </thead>\n",
       "  <tbody>\n",
       "    <tr>\n",
       "      <th>0</th>\n",
       "      <td>5.85</td>\n",
       "      <td>48</td>\n",
       "      <td>1100000.0</td>\n",
       "      <td>3</td>\n",
       "      <td>190</td>\n",
       "      <td>3058500.0</td>\n",
       "      <td>1962</td>\n",
       "      <td>1991</td>\n",
       "      <td>30.500000</td>\n",
       "    </tr>\n",
       "    <tr>\n",
       "      <th>1</th>\n",
       "      <td>5.50</td>\n",
       "      <td>48</td>\n",
       "      <td>310000.0</td>\n",
       "      <td>5</td>\n",
       "      <td>277</td>\n",
       "      <td>396072.0</td>\n",
       "      <td>1985</td>\n",
       "      <td>1998</td>\n",
       "      <td>30.500000</td>\n",
       "    </tr>\n",
       "    <tr>\n",
       "      <th>2</th>\n",
       "      <td>6.45</td>\n",
       "      <td>48</td>\n",
       "      <td>165000.0</td>\n",
       "      <td>3</td>\n",
       "      <td>158</td>\n",
       "      <td>900.0</td>\n",
       "      <td>2016</td>\n",
       "      <td>2016</td>\n",
       "      <td>5.500000</td>\n",
       "    </tr>\n",
       "    <tr>\n",
       "      <th>3</th>\n",
       "      <td>0.06</td>\n",
       "      <td>60</td>\n",
       "      <td>2000000.0</td>\n",
       "      <td>3</td>\n",
       "      <td>166</td>\n",
       "      <td>10000.0</td>\n",
       "      <td>2016</td>\n",
       "      <td>2014</td>\n",
       "      <td>150.500000</td>\n",
       "    </tr>\n",
       "    <tr>\n",
       "      <th>4</th>\n",
       "      <td>4.90</td>\n",
       "      <td>36</td>\n",
       "      <td>100000.0</td>\n",
       "      <td>5</td>\n",
       "      <td>148</td>\n",
       "      <td>10000.0</td>\n",
       "      <td>2003</td>\n",
       "      <td>2003</td>\n",
       "      <td>84.482379</td>\n",
       "    </tr>\n",
       "    <tr>\n",
       "      <th>...</th>\n",
       "      <td>...</td>\n",
       "      <td>...</td>\n",
       "      <td>...</td>\n",
       "      <td>...</td>\n",
       "      <td>...</td>\n",
       "      <td>...</td>\n",
       "      <td>...</td>\n",
       "      <td>...</td>\n",
       "      <td>...</td>\n",
       "    </tr>\n",
       "    <tr>\n",
       "      <th>683</th>\n",
       "      <td>0.08</td>\n",
       "      <td>36</td>\n",
       "      <td>150000.0</td>\n",
       "      <td>7</td>\n",
       "      <td>579</td>\n",
       "      <td>3100.0</td>\n",
       "      <td>2015</td>\n",
       "      <td>2015</td>\n",
       "      <td>5.500000</td>\n",
       "    </tr>\n",
       "    <tr>\n",
       "      <th>684</th>\n",
       "      <td>0.07</td>\n",
       "      <td>60</td>\n",
       "      <td>1050000.0</td>\n",
       "      <td>3</td>\n",
       "      <td>223</td>\n",
       "      <td>900800.0</td>\n",
       "      <td>2007</td>\n",
       "      <td>2007</td>\n",
       "      <td>150.500000</td>\n",
       "    </tr>\n",
       "    <tr>\n",
       "      <th>685</th>\n",
       "      <td>9.50</td>\n",
       "      <td>60</td>\n",
       "      <td>210000.0</td>\n",
       "      <td>7</td>\n",
       "      <td>516</td>\n",
       "      <td>129215.0</td>\n",
       "      <td>1999</td>\n",
       "      <td>1999</td>\n",
       "      <td>5.500000</td>\n",
       "    </tr>\n",
       "    <tr>\n",
       "      <th>686</th>\n",
       "      <td>0.07</td>\n",
       "      <td>36</td>\n",
       "      <td>105000.0</td>\n",
       "      <td>3</td>\n",
       "      <td>156</td>\n",
       "      <td>727041.0</td>\n",
       "      <td>1993</td>\n",
       "      <td>1993</td>\n",
       "      <td>5.500000</td>\n",
       "    </tr>\n",
       "    <tr>\n",
       "      <th>687</th>\n",
       "      <td>0.09</td>\n",
       "      <td>60</td>\n",
       "      <td>310000.0</td>\n",
       "      <td>7</td>\n",
       "      <td>298</td>\n",
       "      <td>136500.0</td>\n",
       "      <td>2002</td>\n",
       "      <td>2002</td>\n",
       "      <td>150.500000</td>\n",
       "    </tr>\n",
       "  </tbody>\n",
       "</table>\n",
       "<p>688 rows × 9 columns</p>\n",
       "</div>"
      ],
      "text/plain": [
       "     Taux  Mois    Montant  Niveau_de_risque  Emprunteur  capital_social  \\\n",
       "0    5.85    48  1100000.0                 3         190       3058500.0   \n",
       "1    5.50    48   310000.0                 5         277        396072.0   \n",
       "2    6.45    48   165000.0                 3         158           900.0   \n",
       "3    0.06    60  2000000.0                 3         166         10000.0   \n",
       "4    4.90    36   100000.0                 5         148         10000.0   \n",
       "..    ...   ...        ...               ...         ...             ...   \n",
       "683  0.08    36   150000.0                 7         579          3100.0   \n",
       "684  0.07    60  1050000.0                 3         223        900800.0   \n",
       "685  9.50    60   210000.0                 7         516        129215.0   \n",
       "686  0.07    36   105000.0                 3         156        727041.0   \n",
       "687  0.09    60   310000.0                 7         298        136500.0   \n",
       "\n",
       "     année_de_création  Antériorité   effectifs  \n",
       "0                 1962         1991   30.500000  \n",
       "1                 1985         1998   30.500000  \n",
       "2                 2016         2016    5.500000  \n",
       "3                 2016         2014  150.500000  \n",
       "4                 2003         2003   84.482379  \n",
       "..                 ...          ...         ...  \n",
       "683               2015         2015    5.500000  \n",
       "684               2007         2007  150.500000  \n",
       "685               1999         1999    5.500000  \n",
       "686               1993         1993    5.500000  \n",
       "687               2002         2002  150.500000  \n",
       "\n",
       "[688 rows x 9 columns]"
      ]
     },
     "execution_count": 27,
     "metadata": {},
     "output_type": "execute_result"
    }
   ],
   "source": [
    "df1"
   ]
  },
  {
   "cell_type": "code",
   "execution_count": 31,
   "id": "68a2d73b",
   "metadata": {},
   "outputs": [],
   "source": [
    "Featuer= df1.drop('Taux',axis=1)\n",
    "Y = df1.Taux.ravel()\n"
   ]
  },
  {
   "cell_type": "code",
   "execution_count": 32,
   "id": "8c5deee2",
   "metadata": {},
   "outputs": [],
   "source": [
    "st=StandardScaler()\n",
    "X= st.fit_transform(Featuer)"
   ]
  },
  {
   "cell_type": "code",
   "execution_count": 33,
   "id": "7abb8a59",
   "metadata": {},
   "outputs": [],
   "source": [
    "X_train , X_test ,y_train, y_test= train_test_split(X,Y,test_size=0.2)\n"
   ]
  },
  {
   "cell_type": "code",
   "execution_count": 34,
   "id": "6b1b99b8",
   "metadata": {},
   "outputs": [],
   "source": [
    "from sklearn.model_selection import KFold\n",
    "cv = KFold(n_splits=10, random_state=1, shuffle=True)\n"
   ]
  },
  {
   "cell_type": "markdown",
   "id": "5843cbc8",
   "metadata": {},
   "source": [
    "\n",
    "### Model Comparison and Selection"
   ]
  },
  {
   "cell_type": "code",
   "execution_count": 35,
   "id": "6a133c9f",
   "metadata": {},
   "outputs": [],
   "source": [
    "# Spot Check Algorithms\n",
    "models = []\n",
    "models.append(('LS', Lasso()))\n",
    "models.append(('RFR', RandomForestRegressor()))\n",
    "models.append(('GBR', GradientBoostingRegressor( )))\n",
    "models.append(('KNN', KNeighborsRegressor()))\n",
    "models.append(('DTR', DecisionTreeRegressor()))\n",
    "models.append(('XGBR', XGBRegressor()))\n"
   ]
  },
  {
   "cell_type": "code",
   "execution_count": 36,
   "id": "43ad4d5a",
   "metadata": {},
   "outputs": [
    {
     "name": "stdout",
     "output_type": "stream",
     "text": [
      "LS: -7.911610 (1.104624)\n",
      "RFR: -8.051932 (1.136231)\n",
      "GBR: -8.429673 (1.659464)\n",
      "KNN: -8.619128 (1.311057)\n",
      "DTR: -15.074170 (1.980959)\n",
      "XGBR: -9.972062 (1.247289)\n"
     ]
    }
   ],
   "source": [
    "# evaluate each model in turn\n",
    "results = []\n",
    "names = []\n",
    "for name, model in models:\n",
    "    kfold= KFold(n_splits=10, random_state=1, shuffle=True)\n",
    "\n",
    "    cv_results = cross_val_score(model, X_train, y_train, cv=kfold, scoring='neg_mean_squared_error')\n",
    "    results.append(cv_results)\n",
    "    names.append(name)\n",
    "    print('%s: %f (%f)' % (name, cv_results.mean(), cv_results.std()))"
   ]
  },
  {
   "cell_type": "code",
   "execution_count": 37,
   "id": "c04850b2",
   "metadata": {},
   "outputs": [
    {
     "data": {
      "image/png": "[encoded data removed]",
      "text/plain": [
       "<Figure size 432x288 with 1 Axes>"
      ]
     },
     "metadata": {
      "needs_background": "light"
     },
     "output_type": "display_data"
    }
   ],
   "source": [
    "# Compare Algorithms\n",
    "from matplotlib import pyplot\n",
    "\n",
    "pyplot.boxplot(results, labels=names)\n",
    "pyplot.title('Algorithm Comparison')\n",
    "pyplot.show()"
   ]
  },
  {
   "cell_type": "markdown",
   "id": "222b94fd",
   "metadata": {},
   "source": [
    "### Improve Accuracy with Algorithm Tuning\n"
   ]
  },
  {
   "cell_type": "code",
   "execution_count": 38,
   "id": "ec89a1e8",
   "metadata": {},
   "outputs": [
    {
     "name": "stdout",
     "output_type": "stream",
     "text": [
      " Results from Grid Search \n",
      "\n",
      " The best score across ALL searched params:\n",
      " -0.010038457070680717\n",
      "\n",
      " The best parameters across ALL searched params:\n",
      " {'alpha': 1.2589254117941673}\n"
     ]
    }
   ],
   "source": [
    "ls =Lasso(random_state=0, max_iter=10000)\n",
    "alphas = np.logspace(0.1, 1, 30)\n",
    "param_grid = [{'alpha': alphas}]\n",
    "grid_LS = GridSearchCV(estimator=ls, param_grid = param_grid, cv = 5, n_jobs=-1)\n",
    "grid_LS.fit(X_train, y_train)\n",
    "print(\" Results from Grid Search \" )\n",
    "print(\"\\n The best score across ALL searched params:\\n\",grid_LS.best_score_)\n",
    "print(\"\\n The best parameters across ALL searched params:\\n\",grid_LS.best_params_)"
   ]
  },
  {
   "cell_type": "code",
   "execution_count": 39,
   "id": "0703eda0",
   "metadata": {},
   "outputs": [
    {
     "data": {
      "text/plain": [
       "GridSearchCV(cv=5, estimator=GradientBoostingRegressor(), n_jobs=-1,\n",
       "             param_grid={'learning_rate': [0.001, 0.01, 0.02],\n",
       "                         'max_depth': [4, 6, 8, 10],\n",
       "                         'n_estimators': [50, 100, 500, 1000],\n",
       "                         'subsample': [0.01, 0.9, 0.5, 0.2, 0.1]})"
      ]
     },
     "execution_count": 39,
     "metadata": {},
     "output_type": "execute_result"
    }
   ],
   "source": [
    "gbr = GradientBoostingRegressor()\n",
    "parameters = {'learning_rate': [0.001,0.01,0.02],\n",
    "                  'subsample'    : [0.01,0.9, 0.5, 0.2, 0.1],\n",
    "                  'n_estimators' : [50,100,500,1000, ],\n",
    "                  'max_depth'    : [4,6,8,10]\n",
    "                 }\n",
    "grid_GBR = GridSearchCV(estimator=gbr, param_grid = parameters, cv = 5, n_jobs=-1)\n",
    "grid_GBR.fit(X_train, y_train)"
   ]
  },
  {
   "cell_type": "code",
   "execution_count": 41,
   "id": "09869aa3",
   "metadata": {},
   "outputs": [
    {
     "name": "stdout",
     "output_type": "stream",
     "text": [
      " Results from Grid Search \n",
      "\n",
      " The best score across ALL searched params:\n",
      " 0.0157462458196286\n",
      "\n",
      " The best parameters across ALL searched params:\n",
      " {'learning_rate': 0.001, 'max_depth': 4, 'n_estimators': 1000, 'subsample': 0.9}\n"
     ]
    }
   ],
   "source": [
    "print(\" Results from Grid Search \" )\n",
    "print(\"\\n The best score across ALL searched params:\\n\",grid_GBR.best_score_)\n",
    "print(\"\\n The best parameters across ALL searched params:\\n\",grid_GBR.best_params_)"
   ]
  },
  {
   "cell_type": "markdown",
   "id": "bfa0958e",
   "metadata": {},
   "source": [
    "### Evaluate model"
   ]
  },
  {
   "cell_type": "code",
   "execution_count": 42,
   "id": "5de843cf",
   "metadata": {},
   "outputs": [],
   "source": [
    "best_gbr= GradientBoostingRegressor(learning_rate= 0.01, max_depth= 4, n_estimators=1000, subsample=0.9)\n",
    "best_gbr.fit(X_train, y_train)\n",
    "pre=best_gbr.predict(X_test)"
   ]
  },
  {
   "cell_type": "code",
   "execution_count": 43,
   "id": "45506181",
   "metadata": {},
   "outputs": [
    {
     "name": "stdout",
     "output_type": "stream",
     "text": [
      "\n",
      " The best score across ALL searched params:\n",
      " 2.139425203720206\n"
     ]
    }
   ],
   "source": [
    "print(\"\\n The best score across ALL searched params:\\n\",mean_absolute_error(y_test,pre))\n"
   ]
  },
  {
   "cell_type": "code",
   "execution_count": 44,
   "id": "50c27cd7",
   "metadata": {},
   "outputs": [
    {
     "data": {
      "image/png": "[encoded data removed]",
      "text/plain": [
       "<Figure size 432x288 with 1 Axes>"
      ]
     },
     "metadata": {
      "needs_background": "light"
     },
     "output_type": "display_data"
    }
   ],
   "source": [
    "fig, ax = plt.subplots()\n",
    "ax.scatter(y_test, pre)\n",
    "ax.plot([y_test.min(), y_test.max()], [y_test.min(), y_test.max()], 'k--', lw=4)\n",
    "ax.set_xlabel('Measured')\n",
    "ax.set_ylabel('Predicted')\n",
    "plt.show()"
   ]
  },
  {
   "cell_type": "markdown",
   "id": "57d33f85",
   "metadata": {},
   "source": [
    "## Part 3: Alternative data"
   ]
  },
  {
   "cell_type": "markdown",
   "id": "b785fefd",
   "metadata": {},
   "source": [
    "1-to improve the model we need to improve the quality and quantity of data we have, alternative data can be useful in this case such as historical account balances and payment patterns looking across checks, mortgages, auto loans and project loans, the worker's wages "
   ]
  },
  {
   "cell_type": "markdown",
   "id": "8c4b5d4e",
   "metadata": {},
   "source": [
    "2-I often use the generative model in image data it's very effective in entering little noise on image keep features exist and reliable, in our case, it's very sensitive the data should be real-world cases to be effective, generative data may lead the predict unreal results"
   ]
  },
  {
   "cell_type": "markdown",
   "id": "6f9c7fc2",
   "metadata": {},
   "source": [
    "3-In the stock market research have been using a variety of alternative sources, social media, Twitter because of its popularity and easy accessibility,  The Wall Street Journal, Financial Times and Thomson Reuters same way can be used, in ours, this can be applicable  Most of\n",
    "the aforementioned sources are mostly comprised of textual data-rich in information. In order for this type of content\n",
    "to be useful for machine learning algorithms, The degree to which companies have jointly mentioned the name, the Emotions such as \"hope\", \"fear\" and \"worry\"  in the tweets contain the company names..."
   ]
  },
  {
   "cell_type": "code",
   "execution_count": null,
   "id": "fdbd57b4",
   "metadata": {},
   "outputs": [],
   "source": []
  }
 ],
 "metadata": {
  "kernelspec": {
   "display_name": "Python 3",
   "language": "python",
   "name": "python3"
  },
  "language_info": {
   "codemirror_mode": {
    "name": "ipython",
    "version": 3
   },
   "file_extension": ".py",
   "mimetype": "text/x-python",
   "name": "python",
   "nbconvert_exporter": "python",
   "pygments_lexer": "ipython3",
   "version": "3.8.8"
  }
 },
 "nbformat": 4,
 "nbformat_minor": 5
}
